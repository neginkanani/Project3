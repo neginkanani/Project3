{
 "cells": [
  {
   "cell_type": "code",
   "execution_count": null,
   "id": "cd9342e0",
   "metadata": {},
   "outputs": [],
   "source": [
    "#8600 rows x 17 columns] breweries"
   ]
  },
  {
   "cell_type": "code",
   "execution_count": null,
   "id": "da16b986",
   "metadata": {},
   "outputs": [],
   "source": [
    "import requests\n",
    "import pandas as pd\n",
    "from bs4 import BeautifulSoup\n",
    "import time\n",
    "import pprint\n"
   ]
  },
  {
   "cell_type": "code",
   "execution_count": null,
   "id": "ca6c0be3",
   "metadata": {},
   "outputs": [],
   "source": [
    "i = 0\n",
    "url = f'https://api.openbrewerydb.org/breweries?page={i}&per_page=200'\n",
    "brewery_list = []\n",
    "for i in range(1,44):\n",
    "    response = requests.get(url)\n",
    "    brewery_data = response.json()\n",
    "    brewery_list.append(brewery_data)\n",
    "    time.sleep(1)\n"
   ]
  },
  {
   "cell_type": "code",
   "execution_count": null,
   "id": "f71672a1",
   "metadata": {},
   "outputs": [],
   "source": [
    "pprint.pprint(brewery_list)"
   ]
  },
  {
   "cell_type": "code",
   "execution_count": null,
   "id": "90ed938e",
   "metadata": {},
   "outputs": [],
   "source": [
    "from itertools import chain\n",
    "all_brewerys_pd = list(chain.from_iterable(brewery_list))"
   ]
  },
  {
   "cell_type": "code",
   "execution_count": null,
   "id": "ff845e7b",
   "metadata": {},
   "outputs": [],
   "source": [
    "all_brewerys_pd"
   ]
  },
  {
   "cell_type": "code",
   "execution_count": null,
   "id": "53f2dd84",
   "metadata": {},
   "outputs": [],
   "source": [
    "print(len(all_brewerys_pd))"
   ]
  },
  {
   "cell_type": "code",
   "execution_count": null,
   "id": "f99eeb8d",
   "metadata": {},
   "outputs": [],
   "source": [
    "brewery_df = pd.DataFrame.from_records(all_brewerys_pd)\n",
    "print(brewery_df)"
   ]
  },
  {
   "cell_type": "code",
   "execution_count": null,
   "id": "d4941f50",
   "metadata": {},
   "outputs": [],
   "source": [
    "brewery_df.describe()"
   ]
  },
  {
   "cell_type": "markdown",
   "id": "c97b4a9a",
   "metadata": {},
   "source": []
  },
  {
   "cell_type": "code",
   "execution_count": null,
   "id": "ad307faa",
   "metadata": {},
   "outputs": [],
   "source": [
    "brewery_df.to_csv('brewery_list.csv')"
   ]
  },
  {
   "cell_type": "code",
   "execution_count": null,
   "id": "616e22ee",
   "metadata": {},
   "outputs": [],
   "source": [
    "# Create a sample dataframe with an text index\n",
    "from matplotlib import pyplot as plt\n",
    "\n",
    "plot_brewery_type = pd.DataFrame(brewery_df['brewery_type']).value_counts()\n",
    "# Plot a bar chart\n",
    "plot_brewery_type.plot(kind=\"bar\")\n",
    "plt.title(\"Types of Breweries\")\n",
    "\n"
   ]
  },
  {
   "cell_type": "code",
   "execution_count": null,
   "id": "a93dcf69",
   "metadata": {},
   "outputs": [],
   "source": [
    "plot_brewery_state = pd.DataFrame(brewery_df['state']).value_counts()\n",
    "# Plot a bar chart\n",
    "plot_brewery_state.plot(kind=\"bar\")\n",
    "plt.title(\"States of Breweries\")"
   ]
  },
  {
   "cell_type": "markdown",
   "id": "7214aa37",
   "metadata": {},
   "source": [
    "## Webscraping\n",
    "untapped brewery\n"
   ]
  },
  {
   "cell_type": "code",
   "execution_count": 9,
   "id": "0aa78e8b",
   "metadata": {},
   "outputs": [
    {
     "data": {
      "text/plain": [
       "'/Users/kelly.paredes/opt/anaconda3/bin'"
      ]
     },
     "execution_count": 9,
     "metadata": {},
     "output_type": "execute_result"
    }
   ],
   "source": [
    "from splinter import Browser\n",
    "import csv\n",
    "import os\n",
    "import sys\n",
    "import time\n",
    "os.path.dirname(sys.executable)"
   ]
  },
  {
   "cell_type": "code",
   "execution_count": null,
   "id": "c7b90c30",
   "metadata": {},
   "outputs": [],
   "source": []
  },
  {
   "cell_type": "code",
   "execution_count": 66,
   "id": "143b471b",
   "metadata": {},
   "outputs": [],
   "source": [
    "#browser = webdriver.Chrome()\n",
    "global browser\n",
    "browser = Browser('chrome')\n",
    "#https://untappd.com/brewery/top_rated?country=united-states\n"
   ]
  },
  {
   "cell_type": "code",
   "execution_count": 67,
   "id": "83b00ff3",
   "metadata": {},
   "outputs": [],
   "source": [
    "brew_types = ['macro_brewery', 'micro_brewery', 'nano_brewery', 'brew_pub','cidery','meadery',\n",
    "              'contract_brewery', 'regional_brewery']\n",
    "\n",
    "all_brewery_info = []\n",
    "\n",
    "for types in brew_types:\n",
    "    url_untapped = f'https://untappd.com/brewery/top_rated?country=united-states&brewery_type={types}'\n",
    "    browser.visit(url_untapped)\n",
    "    time.sleep(5)\n",
    "    breweries = browser.find_by_xpath('//*[@id=\"slide\"]/div[3]/div/div[1]/div/div[4]')\n",
    "    for brewery in breweries:\n",
    "        title_link = brewery.text\n",
    "        all_brewery_info.append(title_link)\n",
    "        time.sleep(1)\n",
    "\n"
   ]
  },
  {
   "cell_type": "code",
   "execution_count": 68,
   "id": "f82bd551",
   "metadata": {},
   "outputs": [
    {
     "name": "stdout",
     "output_type": "stream",
     "text": [
      "[\"Founders Brewing Co.\\nGrand Rapids, MI United States\\nMacro Brewery\\n964 Beers 7,168,191 Ratings\\n(3.962)\\nWicked Weed Brewing\\nAsheville, NC United States\\nMacro Brewery\\n747 Beers 1,804,525 Ratings\\n(3.919)\\nAvery Brewing Co.\\nBoulder, CO United States\\nMacro Brewery\\n532 Beers 2,239,783 Ratings\\n(3.891)\\nFunky Buddha Brewery\\nOakland Park, FL United States\\nMacro Brewery\\n1,135 Beers 832,534 Ratings\\n(3.891)\\nGoose Island Beer Co.\\nChicago, IL United States\\nMacro Brewery\\n1,375 Beers 5,591,927 Ratings\\n(3.885)\\nAC Golden Brewing Co.\\nGolden, CO United States\\nMacro Brewery\\n104 Beers 16,498 Ratings\\n(3.867)\\nBell's Brewery\\nComstock, MI United States\\nMacro Brewery\\n675 Beers 4,523,588 Ratings\\n(3.849)\\nLagunitas Brewing Company\\nPetaluma, CA United States\\nMacro Brewery\\n780 Beers 5,463,102 Ratings\\n(3.81)\\nNot Your Father’s\\nWauconda, IL United States\\nMacro Brewery\\n90 Beers 375,323 Ratings\\n(3.808)\\nTerrapin Beer Co.\\nAthens, GA United States\\nMacro Brewery\\n545 Beers 1,605,734 Ratings\\n(3.746)\\nReport Ad\\nElysian Brewing Company\\nSeattle, WA United States\\nMacro Brewery\\n779 Beers 1,501,927 Ratings\\n(3.74)\\nAppalachian Mountain Brewery\\nBoone, NC United States\\nMacro Brewery\\n331 Beers 165,831 Ratings\\n(3.732)\\nGuinness Open Gate Brewery\\nHalethorpe, MD United States\\nMacro Brewery\\n319 Beers 173,574 Ratings\\n(3.726)\\nPlatform Beer Company\\nCleveland, OH United States\\nMacro Brewery\\n1,249 Beers 672,583 Ratings\\n(3.724)\\nWinding Path Brewing Co.\\nDallastown, PA United States\\nMacro Brewery\\n40 Beers 42,635 Ratings\\n(3.719)\\nKarbach Brewing Co.\\nHouston, TX United States\\nMacro Brewery\\n193 Beers 645,846 Ratings\\n(3.71)\\nSecret Llama\\nLakeland, FL United States\\nMacro Brewery\\n17 Beers 10,507 Ratings\\n(3.7)\\n10 Barrel Brewing Co.\\nBend, OR United States\\nMacro Brewery\\n1,584 Beers 740,533 Ratings\\n(3.663)\\nGolden Road Brewing\\nLos Angeles, CA United States\\nMacro Brewery\\n824 Beers 818,194 Ratings\\n(3.659)\\nFour Peaks Brewing Company\\nTempe, AZ United States\\nMacro Brewery\\n379 Beers 369,267 Ratings\\n(3.655)\\nRevolver Brewing\\nGranbury, TX United States\\nMacro Brewery\\n141 Beers 188,922 Ratings\\n(3.643)\\nVeza Sur Brewing Co.\\nMiami, FL United States\\nMacro Brewery\\n97 Beers 46,259 Ratings\\n(3.633)\\nNew Belgium Brewing Company\\nFort Collins, CO United States\\nMacro Brewery\\n614 Beers 6,146,424 Ratings\\n(3.632)\\nWynwood Brewing Company\\nMiami, FL United States\\nMacro Brewery\\n473 Beers 95,653 Ratings\\n(3.624)\\nSimply Spiked\\nMilwaukee, WI United States\\nMacro Brewery\\n8 Beers 7,062 Ratings\\n(3.623)\\nBreckenridge Brewery\\nLittleton, CO United States\\nMacro Brewery\\n823 Beers 1,444,405 Ratings\\n(3.622)\\nDevils Backbone Brewing Company\\nRoseland, VA United States\\nMacro Brewery\\n723 Beers 748,386 Ratings\\n(3.585)\\nWidmer Brothers Brewing\\nPortland, OR United States\\nMacro Brewery\\n553 Beers 596,317 Ratings\\n(3.528)\\nKona Brewing Company\\nKailua Kona, HI United States\\nMacro Brewery\\n170 Beers 1,752,057 Ratings\\n(3.524)\\nAnchor Brewing Company\\nSan Francisco, CA United States\\nMacro Brewery\\n327 Beers 1,370,195 Ratings\\n(3.523)\\nFour Sixes Grit & Glory\\nUnited States\\nMacro Brewery\\n5 Beers 3,486 Ratings\\n(3.521)\\nBlue Point Brewing Company\\nPatchogue, NY United States\\nMacro Brewery\\n162 Beers 699,469 Ratings\\n(3.521)\\nKombrewcha Hard Kombucha\\nBrooklyn, NY United States\\nMacro Brewery\\n6 Beers 2,846 Ratings\\n(3.518)\\nPRESS Premium Alcohol Seltzer\\nMilwaukee, WI United States\\nMacro Brewery\\n10 Beers 12,868 Ratings\\n(3.502)\\nCisco Brewers\\nNantucket Island, MA United States\\nMacro Brewery\\n294 Beers 268,650 Ratings\\n(3.472)\\nHenry's Hard Soda\\nMilwaukee, WI United States\\nMacro Brewery\\n7 Beers 58,910 Ratings\\n(3.429)\\nJacob Leinenkugel Brewing Company\\nChippewa Falls, WI United States\\nMacro Brewery\\n302 Beers 1,732,478 Ratings\\n(3.413)\\nBlue Moon Brewing Company\\nDenver, CO United States\\nMacro Brewery\\n609 Beers 1,585,877 Ratings\\n(3.39)\\nVibez\\nAlexandria, VA United States\\nMacro Brewery\\n19 Beers 2,199 Ratings\\n(3.378)\\nJack Daniel's Beverage Co.\\nLouisville, KY United States\\nMacro Brewery\\n12 Beers 13,125 Ratings\\n(3.358)\\nVizzy Hard Seltzer\\nMemphis, TN United States\\nMacro Brewery\\n20 Beers 36,813 Ratings\\n(3.348)\\nGenesee Brewing Company\\nRochester, NY United States\\nMacro Brewery\\n313 Beers 243,246 Ratings\\n(3.334)\\nMalibu Splash\\nNew York, NY United States\\nMacro Brewery\\n5 Beers 3,879 Ratings\\n(3.325)\\nTwo Lane Brewing\\nDaleville, VA United States\\nMacro Brewery\\n5 Beers 4,195 Ratings\\n(3.323)\\nBacardi\\nCoral Gables, FL United States\\nMacro Brewery\\n22 Beers 10,749 Ratings\\n(3.272)\\nShock Top Brewing Co.\\nSt Louis, MO United States\\nMacro Brewery\\n47 Beers 718,227 Ratings\\n(3.259)\\nMargaritaville Brewing Co.\\nSt. Louis, MO United States\\nMacro Brewery\\n15 Beers 163,691 Ratings\\n(3.224)\\nOmission Brewing\\nPortland, OR United States\\nMacro Brewery\\n22 Beers 142,363 Ratings\\n(3.216)\\nRedd's Brewing Company\\nMilwaukee, WI United States\\nMacro Brewery\\n29 Beers 185,782 Ratings\\n(3.194)\\nBoathouse Beverage Co.\\nNorwalk, CT United States\\nMacro Brewery\\n9 Beers 34,913 Ratings\\n(3.143)\", 'Floodland Brewing\\nSeattle, WA United States\\nMicro Brewery\\n11 Beers 39,898 Ratings\\n(4.441)\\nSide Project Brewing\\nSaint Louis, MO United States\\nMicro Brewery\\n239 Beers 447,004 Ratings\\n(4.434)\\nFidens Brewing Co\\nColonie, NY United States\\nMicro Brewery\\n272 Beers 210,685 Ratings\\n(4.393)\\nSmooj\\nAnn Arbor, MI United States\\nMicro Brewery\\n36 Beers 43,052 Ratings\\n(4.39)\\nWeaver Hollow Brewery\\nAndes, NY United States\\nMicro Brewery\\n51 Beers 3,200 Ratings\\n(4.384)\\nRoot + Branch Brewing\\nCopiague, NY United States\\nMicro Brewery\\n193 Beers 117,285 Ratings\\n(4.369)\\nHorus Aged Ales\\nOceanside, CA United States\\nMicro Brewery\\n183 Beers 86,442 Ratings\\n(4.353)\\nCasey Brewing & Blending\\nGlenwood Springs, CO United States\\nMicro Brewery\\n666 Beers 238,695 Ratings\\n(4.341)\\nFreak Folk Bier\\nWaterbury Village Historic District, VT United States\\nMicro Brewery\\n68 Beers 14,826 Ratings\\n(4.341)\\nHouse of Fermentology\\nBurlington, VT United States\\nMicro Brewery\\n40 Beers 13,762 Ratings\\n(4.338)\\nReport Ad\\nMortalis Brewing Company\\nAvon, NY United States\\nMicro Brewery\\n529 Beers 331,684 Ratings\\n(4.332)\\nHill Farmstead Brewery\\nGreensboro, VT United States\\nMicro Brewery\\n341 Beers 1,239,475 Ratings\\n(4.319)\\nAmalgam Brewing\\nDenver, CO United States\\nMicro Brewery\\n62 Beers 5,176 Ratings\\n(4.302)\\nMonkish Brewing Co.\\nTorrance, CA United States\\nMicro Brewery\\n826 Beers 944,409 Ratings\\n(4.301)\\nCLAG Brewing Company\\nSandusky, OH United States\\nMicro Brewery\\n181 Beers 34,209 Ratings\\n(4.289)\\nCorporate Ladder Brewing Company\\nPalmetto, FL United States\\nMicro Brewery\\n517 Beers 85,875 Ratings\\n(4.284)\\nElectric Brewing Co.\\nMurrieta, CA United States\\nMicro Brewery\\n422 Beers 110,755 Ratings\\n(4.282)\\nShared\\nSaint Louis, MO United States\\nMicro Brewery\\n130 Beers 110,794 Ratings\\n(4.276)\\nBKS Artisan Ales\\nKansas City, MO United States\\nMicro Brewery\\n555 Beers 75,271 Ratings\\n(4.274)\\nde Garde Brewing\\nTillamook, OR United States\\nMicro Brewery\\n337 Beers 388,558 Ratings\\n(4.266)\\nLittle Log Cabin Brewing Co.\\nArdmore, PA United States\\nMicro Brewery\\n28 Beers 24,367 Ratings\\n(4.256)\\nSante Adairius Rustic Ales\\nCapitola, CA United States\\nMicro Brewery\\n461 Beers 318,799 Ratings\\n(4.255)\\nThe Ale Apothecary\\nBend, OR United States\\nMicro Brewery\\n296 Beers 71,917 Ratings\\n(4.251)\\nBarclay Brewing Co.\\nNorth Haven, CT United States\\nMicro Brewery\\n33 Beers 13,784 Ratings\\n(4.249)\\nKnotted Root Brewing Company\\nNederland, CO United States\\nMicro Brewery\\n228 Beers 61,432 Ratings\\n(4.23)\\nSlice Beer Company\\nLincoln, CA United States\\nMicro Brewery\\n154 Beers 51,811 Ratings\\n(4.228)\\nHOMES Brewery\\nAnn Arbor, MI United States\\nMicro Brewery\\n307 Beers 239,780 Ratings\\n(4.227)\\nBurns Family Artisan Ales\\nDenver, CO United States\\nMicro Brewery\\n175 Beers 9,412 Ratings\\n(4.225)\\nAngry Chair Brewing\\nTampa, FL United States\\nMicro Brewery\\n854 Beers 422,446 Ratings\\n(4.224)\\nHudson Valley Brewery\\nBeacon, NY United States\\nMicro Brewery\\n328 Beers 436,894 Ratings\\n(4.223)\\nSuarez Family Brewery\\nLivingston, NY United States\\nMicro Brewery\\n127 Beers 131,295 Ratings\\n(4.219)\\nAdventurous Brewing\\nBettendorf, IA United States\\nMicro Brewery\\n203 Beers 34,098 Ratings\\n(4.218)\\nCycle Brewing Company\\nSt. Petersburg, FL United States\\nMicro Brewery\\n522 Beers 445,372 Ratings\\n(4.209)\\nTimber Ales\\nNew York, NY United States\\nMicro Brewery\\n91 Beers 89,084 Ratings\\n(4.207)\\nPulpit Rock Brewing Company\\nDecorah, IA United States\\nMicro Brewery\\n441 Beers 181,561 Ratings\\n(4.205)\\nLULZ Hard Seltzer\\nLake Zurich, IL United States\\nMicro Brewery\\n22 Beers 9,869 Ratings\\n(4.204)\\nThe Referend Bier Blendery\\nKutztown, PA United States\\nMicro Brewery\\n190 Beers 44,912 Ratings\\n(4.203)\\nMcilhenney Brewing Company\\nAlpine, CA United States\\nMicro Brewery\\n41 Beers 6,640 Ratings\\n(4.201)\\nField & Oak\\nOcean Township, NJ United States\\nMicro Brewery\\n48 Beers 5,237 Ratings\\n(4.2)\\nMixed Breed Brewing\\nGuilderland Center, NY United States\\nMicro Brewery\\n67 Beers 7,528 Ratings\\n(4.199)\\nLong Live Beerworks\\nProvidence, RI United States\\nMicro Brewery\\n591 Beers 187,282 Ratings\\n(4.198)\\nBoiler Brewing Co.\\nLincoln, NE United States\\nMicro Brewery\\n858 Beers 140,369 Ratings\\n(4.198)\\nThe Rare Barrel\\nBerkeley, CA United States\\nMicro Brewery\\n214 Beers 326,727 Ratings\\n(4.196)\\nSJ Brewing Company\\nYulee Heights, FL United States\\nMicro Brewery\\n443 Beers 13,642 Ratings\\n(4.195)\\nNew Park Brewing\\nWest Hartford, CT United States\\nMicro Brewery\\n194 Beers 124,665 Ratings\\n(4.195)\\nPantomime Mixtures\\nHector, NY United States\\nMicro Brewery\\n27 Beers 5,376 Ratings\\n(4.193)\\nRiver Roost Brewery\\nWhite River Junction, VT United States\\nMicro Brewery\\n120 Beers 59,569 Ratings\\n(4.191)\\nWhite Rooster Farmhouse Brewery\\nSparta, IL United States\\nMicro Brewery\\n293 Beers 22,359 Ratings\\n(4.189)\\nDistrict 96 Beer Factory\\nNew City, NY United States\\nMicro Brewery\\n317 Beers 106,928 Ratings\\n(4.188)\\nXül Beer Co\\nKnoxville, TN United States\\nMicro Brewery\\n264 Beers 54,115 Ratings\\n(4.184)', 'Willow Park Brewing\\nBethlehem, PA United States\\nNano Brewery\\n95 Beers 1,765 Ratings\\n(4.556)\\nnebuleus\\nPortland, OR United States\\nNano Brewery\\n49 Beers 2,476 Ratings\\n(4.483)\\nProlyfk Brewing Project\\nNew Bern, NC United States\\nNano Brewery\\n213 Beers 2,183 Ratings\\n(4.413)\\nPrivate Press Brewing\\nSanta Cruz, CA United States\\nNano Brewery\\n34 Beers 18,013 Ratings\\n(4.413)\\nMindful Ales\\nJersey City, NJ United States\\nNano Brewery\\n85 Beers 1,532 Ratings\\n(4.405)\\nTroon Brewing\\nHopewell, NJ United States\\nNano Brewery\\n338 Beers 111,629 Ratings\\n(4.354)\\nWunderkammer Biermanufaktur\\nAlbany, VT United States\\nNano Brewery\\n26 Beers 3,230 Ratings\\n(4.286)\\nThree Chiefs Brewing Co.\\nLos Angeles, CA United States\\nNano Brewery\\n74 Beers 10,558 Ratings\\n(4.281)\\nObercreek Brewing Company\\nWappingers Falls, NY United States\\nNano Brewery\\n260 Beers 18,694 Ratings\\n(4.276)\\nJuicy Brewing Co\\nHerndon, VA United States\\nNano Brewery\\n168 Beers 10,764 Ratings\\n(4.263)\\nReport Ad\\nThe Eighth State Brewing Company\\nGreenville, SC United States\\nNano Brewery\\n454 Beers 65,524 Ratings\\n(4.256)\\nTranscend Beer Crafters\\nSouthington, CT United States\\nNano Brewery\\n199 Beers 19,481 Ratings\\n(4.251)\\nOrchestrated Minds Brewing\\nFort Lauderdale, FL United States\\nNano Brewery\\n656 Beers 17,360 Ratings\\n(4.249)\\nFree Reign Brewing Co.\\nMt. Pleasant, SC United States\\nNano Brewery\\n14 Beers 1,478 Ratings\\n(4.248)\\nCypress Creek Southern Ales\\nWinnsboro, TX United States\\nNano Brewery\\n73 Beers 3,288 Ratings\\n(4.238)\\nAfterthought Brewing Company\\nLombard, IL United States\\nNano Brewery\\n308 Beers 28,311 Ratings\\n(4.226)\\nGnosis Brewing\\nMerrillville, IN United States\\nNano Brewery\\n62 Beers 1,836 Ratings\\n(4.216)\\nViking Artisan Ales\\nMerrillville, IN United States\\nNano Brewery\\n137 Beers 11,250 Ratings\\n(4.206)\\nExeter Brewing Co.\\nExeter, NH United States\\nNano Brewery\\n24 Beers 1,228 Ratings\\n(4.205)\\nDeep Fried Beers\\nCatskill, NY United States\\nNano Brewery\\n11 Beers 3,647 Ratings\\n(4.198)\\nPercent Tap House\\nHarrisburg, NC United States\\nNano Brewery\\n189 Beers 12,401 Ratings\\n(4.197)\\nLittle Cottage Brewery\\nAvondale Estates, GA United States\\nNano Brewery\\n211 Beers 14,584 Ratings\\n(4.196)\\nIll Will Brewing\\nColumbiana, OH United States\\nNano Brewery\\n86 Beers 5,210 Ratings\\n(4.193)\\nFrequentem Brewing Co.\\nCanandaigua, NY United States\\nNano Brewery\\n185 Beers 20,922 Ratings\\n(4.189)\\nLumen Beer Co.\\nOmaha, NE United States\\nNano Brewery\\n54 Beers 4,326 Ratings\\n(4.187)\\nKeeping Together\\nChicago, IL United States\\nNano Brewery\\n21 Beers 6,336 Ratings\\n(4.185)\\nBarrique Brewing and Blending\\nNashville, TN United States\\nNano Brewery\\n211 Beers 21,868 Ratings\\n(4.181)\\nColes Road Brewing\\nBerlin, CT United States\\nNano Brewery\\n268 Beers 20,621 Ratings\\n(4.175)\\nSpyglass Brewing Company\\nNashua, NH United States\\nNano Brewery\\n217 Beers 91,361 Ratings\\n(4.169)\\nNew Origin Brewing Company\\nAsheville, NC United States\\nNano Brewery\\n65 Beers 7,497 Ratings\\n(4.166)\\nArvon Brewing Co.\\nGrand Rapids, MI United States\\nNano Brewery\\n418 Beers 114,120 Ratings\\n(4.161)\\nNoble Savage Brewing Company\\nGlen Cove, NY United States\\nNano Brewery\\n115 Beers 4,265 Ratings\\n(4.159)\\nArkane Aleworks\\nLargo, FL United States\\nNano Brewery\\n811 Beers 120,954 Ratings\\n(4.147)\\nKismet Brewing Company\\nWestfield, MA United States\\nNano Brewery\\n33 Beers 4,630 Ratings\\n(4.145)\\nCovert Artisan Ales\\nSioux Falls, SD United States\\nNano Brewery\\n137 Beers 15,123 Ratings\\n(4.142)\\nForgotten Road Ales\\nGraham, NC United States\\nNano Brewery\\n243 Beers 22,095 Ratings\\n(4.14)\\nRustic Brewing Company\\nSpringfield, MA United States\\nNano Brewery\\n89 Beers 7,729 Ratings\\n(4.139)\\nButchertown Brewing\\nLouisville, KY United States\\nNano Brewery\\n78 Beers 3,240 Ratings\\n(4.137)\\nXbeerimental Brewing Company\\nGarfield, NJ United States\\nNano Brewery\\n76 Beers 1,266 Ratings\\n(4.136)\\nModestman Brewing LLC\\nKeene, NH United States\\nNano Brewery\\n72 Beers 31,680 Ratings\\n(4.135)\\nBarrel Chest Wine and Beer\\nRoanoke, VA United States\\nNano Brewery\\n204 Beers 8,047 Ratings\\n(4.135)\\nHightower Brewing Company\\nRayland, OH United States\\nNano Brewery\\n272 Beers 41,872 Ratings\\n(4.131)\\nYeasty Brews\\nLauderdale Lakes, FL United States\\nNano Brewery\\n139 Beers 4,635 Ratings\\n(4.119)\\nPrimitive Beer\\nLongmont, CO United States\\nNano Brewery\\n94 Beers 6,766 Ratings\\n(4.118)\\nHeavy Gem\\nArdmore, PA United States\\nNano Brewery\\n5 Beers 6,997 Ratings\\n(4.114)\\nCultured Collective\\nOrange Park, FL United States\\nNano Brewery\\n382 Beers 6,532 Ratings\\n(4.111)\\nHumble Abode Brewing\\nSpokane, WA United States\\nNano Brewery\\n230 Beers 7,552 Ratings\\n(4.11)\\nFor The Love Of God Brewing\\nSpokane, WA United States\\nNano Brewery\\n114 Beers 4,540 Ratings\\n(4.108)\\nDankHouse Brewing Company\\nNewark, OH United States\\nNano Brewery\\n239 Beers 48,703 Ratings\\n(4.108)\\nCoastal Mass. Brewing\\nBeverly, MA United States\\nNano Brewery\\n191 Beers 27,068 Ratings\\n(4.107)', \"The Answer\\nRichmond, VA United States\\nBrew Pub\\n1,875 Beers 566,438 Ratings\\n(4.317)\\nWax Wings Brewing Company\\nKalamazoo, MI United States\\nBrew Pub\\n352 Beers 71,039 Ratings\\n(4.271)\\nLua Brewing\\nDes Moines, IA United States\\nBrew Pub\\n376 Beers 85,284 Ratings\\n(4.233)\\nBaa Baa Brewhouse\\nBrookshire, TX United States\\nBrew Pub\\n471 Beers 91,263 Ratings\\n(4.219)\\nAround The Horn Brewing Company\\nGroveland, CA United States\\nBrew Pub\\n148 Beers 7,524 Ratings\\n(4.217)\\nForager Brewery\\nRochester, MN United States\\nBrew Pub\\n739 Beers 142,662 Ratings\\n(4.211)\\nNarrow Gauge Brewing Company\\nFlorissant, MO United States\\nBrew Pub\\n330 Beers 238,186 Ratings\\n(4.182)\\nBicentennial Beer Company\\nJackson, MS United States\\nBrew Pub\\n165 Beers 1,693 Ratings\\n(4.169)\\nHidden River Brewing Co\\nDouglassville, PA United States\\nBrew Pub\\n964 Beers 182,497 Ratings\\n(4.128)\\nMore Brewing Company\\nHuntley, IL United States\\nBrew Pub\\n363 Beers 394,052 Ratings\\n(4.122)\\nReport Ad\\nSapwood Cellars Brewery\\nColumbia, MD United States\\nBrew Pub\\n614 Beers 126,795 Ratings\\n(4.121)\\nCelestial Beerworks\\nDallas, TX United States\\nBrew Pub\\n391 Beers 133,141 Ratings\\n(4.121)\\nTransient Artisan Ales\\nBridgman, MI United States\\nBrew Pub\\n872 Beers 373,301 Ratings\\n(4.11)\\nMarlowe Artisanal Ales\\nNyack, NY United States\\nBrew Pub\\n59 Beers 49,724 Ratings\\n(4.082)\\nDewey Beer Company\\nDewey Beach, DE United States\\nBrew Pub\\n704 Beers 343,394 Ratings\\n(4.074)\\nPrison City Pub & Brewery\\nAuburn, NY United States\\nBrew Pub\\n439 Beers 103,512 Ratings\\n(4.072)\\nMonkey Town Brewing Company\\nDayton, TN United States\\nBrew Pub\\n569 Beers 13,662 Ratings\\n(4.067)\\nTurning Point Beer\\nBedford, TX United States\\nBrew Pub\\n456 Beers 208,335 Ratings\\n(4.053)\\nGoldsboro Brew Works\\nGoldsboro, NC United States\\nBrew Pub\\n25 Beers 1,221 Ratings\\n(4.052)\\nFour Points Brewing\\nCharleroi, PA United States\\nBrew Pub\\n272 Beers 55,892 Ratings\\n(4.052)\\nMountains Walking Brewery\\nBozeman, MT United States\\nBrew Pub\\n147 Beers 102,282 Ratings\\n(4.044)\\nThe Brewery At Bacchus\\nNew Paltz, NY United States\\nBrew Pub\\n202 Beers 7,637 Ratings\\n(4.034)\\nThe Liquid Garage Co.\\nNew Port Richey, FL United States\\nBrew Pub\\n89 Beers 4,342 Ratings\\n(4.032)\\nLocation Six\\nWaller, TX United States\\nBrew Pub\\n95 Beers 2,310 Ratings\\n(4.027)\\nBricksworth Beer Co.\\nBurnsville, MN United States\\nBrew Pub\\n113 Beers 18,263 Ratings\\n(4.02)\\nCellar Works Brewing Co.\\nSarver, PA United States\\nBrew Pub\\n125 Beers 20,290 Ratings\\n(4.017)\\nBlade & Barrel\\nJacksonville, AR United States\\nBrew Pub\\n34 Beers 2,299 Ratings\\n(4.013)\\nFalse Idol Brewing\\nNorth Richland Hills, TX United States\\nBrew Pub\\n463 Beers 79,785 Ratings\\n(4.013)\\nIngenious Brewing Company\\nHumble, TX United States\\nBrew Pub\\n998 Beers 181,215 Ratings\\n(4.012)\\nBlock 15 Brewing Company\\nCorvallis, OR United States\\nBrew Pub\\n619 Beers 284,431 Ratings\\n(4.005)\\nHops & Growlers\\nOcean Springs, MS United States\\nBrew Pub\\n255 Beers 2,745 Ratings\\n(4)\\nRoyal Palm Brewing Company\\nRoyal Palm Beach, FL United States\\nBrew Pub\\n265 Beers 10,458 Ratings\\n(3.999)\\nInterchange Brewing Company\\nWilliamsport, MD United States\\nBrew Pub\\n18 Beers 1,164 Ratings\\n(3.993)\\nGoofy Foot Brewery\\nHigh Point, NC United States\\nBrew Pub\\n47 Beers 3,377 Ratings\\n(3.99)\\nEponymous Brewing Company\\nBrookings, SD United States\\nBrew Pub\\n206 Beers 8,073 Ratings\\n(3.989)\\nFirst Forest Brewing\\nHodgkins, IL United States\\nBrew Pub\\n13 Beers 2,574 Ratings\\n(3.986)\\nMain & Mill Brewing Company\\nFestus, MO United States\\nBrew Pub\\n553 Beers 76,224 Ratings\\n(3.976)\\nHumdinger Brewing\\nArroyo Grande, CA United States\\nBrew Pub\\n97 Beers 3,631 Ratings\\n(3.973)\\nUnion Brothers Brewing\\nHarmony, PA United States\\nBrew Pub\\n169 Beers 21,353 Ratings\\n(3.969)\\nKills Boro Brewing Company\\nStaten Island, NY United States\\nBrew Pub\\n193 Beers 27,608 Ratings\\n(3.969)\\nWindmill Brewing\\nDyer, IN United States\\nBrew Pub\\n217 Beers 63,179 Ratings\\n(3.968)\\nCactus Land Brewing Co.\\nAdkins, TX United States\\nBrew Pub\\n175 Beers 7,778 Ratings\\n(3.964)\\nUrban Roots Brewing & Smokehouse\\nSacramento, CA United States\\nBrew Pub\\n220 Beers 68,241 Ratings\\n(3.964)\\nBill's Best Brewery\\nGlenside, PA United States\\nBrew Pub\\n250 Beers 10,370 Ratings\\n(3.961)\\nAbridged Beer Company\\nKnoxville, TN United States\\nBrew Pub\\n322 Beers 32,531 Ratings\\n(3.961)\\nLock City Brewing\\nStamford, CT United States\\nBrew Pub\\n110 Beers 27,502 Ratings\\n(3.96)\\nTraust Brewing Company\\nMount Holly, NC United States\\nBrew Pub\\n46 Beers 3,167 Ratings\\n(3.958)\\nStruggle Street Brewing Company\\nBeaumont, TX United States\\nBrew Pub\\n301 Beers 5,371 Ratings\\n(3.958)\\nMoe's Tavern Brewing\\nCleveland, OH United States\\nBrew Pub\\n54 Beers 1,552 Ratings\\n(3.958)\\nValley Brewing Co. (Yakima, WA)\\nYakima, WA United States\\nBrew Pub\\n114 Beers 6,317 Ratings\\n(3.957)\", \"Fable Farm & Fermentory\\nBarnard, VT United States\\nCidery\\n52 Beers 1,167 Ratings\\n(4.093)\\nAaron Burr Cidery\\nWurtsboro, NY United States\\nCidery\\n31 Beers 1,569 Ratings\\n(4.064)\\nHaykin Family Cider\\nAurora, CO United States\\nCidery\\n134 Beers 3,045 Ratings\\n(4.057)\\nHelvetia Cider Company\\nHillsboro, OR United States\\nCidery\\n30 Beers 1,354 Ratings\\n(4.027)\\nSix Byrd Cider Company\\nPhoenix, AZ United States\\nCidery\\n76 Beers 4,899 Ratings\\n(3.997)\\nD's Wicked Cider\\nKennewick, WA United States\\nCidery\\n22 Beers 13,154 Ratings\\n(3.984)\\nOne Tree Hard Cider\\nSpokane, WA United States\\nCidery\\n105 Beers 19,668 Ratings\\n(3.979)\\nCrimson Sunset Cidery (Iowa)\\nCascade, IA United States\\nCidery\\n44 Beers 8,066 Ratings\\n(3.975)\\nThe Old Mine\\nErie, CO United States\\nCidery\\n317 Beers 5,575 Ratings\\n(3.972)\\nMolley Chomper Hard Cider\\nLansing, NC United States\\nCidery\\n22 Beers 1,952 Ratings\\n(3.966)\\nReport Ad\\nBoss Cider Company\\nLeslie, MI United States\\nCidery\\n93 Beers 1,279 Ratings\\n(3.96)\\nEden Specialty Ciders\\nNewport, VT United States\\nCidery\\n61 Beers 9,791 Ratings\\n(3.944)\\nTree House Farm & Fermentory\\nWoodstock, CT United States\\nCidery\\n36 Beers 1,195 Ratings\\n(3.938)\\nOdd Brothers Craft Cider\\nHomer, MI United States\\nCidery\\n24 Beers 1,272 Ratings\\n(3.934)\\nMeriwether Cider Company\\nGarden City, ID United States\\nCidery\\n128 Beers 6,866 Ratings\\n(3.928)\\nSierra Rose Ciders\\nGrand Rapids, MI United States\\nCidery\\n16 Beers 10,012 Ratings\\n(3.926)\\nArsenal Cider House\\nPittsburgh, PA United States\\nCidery\\n178 Beers 42,087 Ratings\\n(3.925)\\nCarlson Orchards\\nHarvard, MA United States\\nCidery\\n24 Beers 6,527 Ratings\\n(3.919)\\nIndigeny Reserve\\nSonora, CA United States\\nCidery\\n16 Beers 1,854 Ratings\\n(3.909)\\nArmageddon Brewing\\nSomerdale, NJ United States\\nCidery\\n61 Beers 2,348 Ratings\\n(3.905)\\nTaproot Cider House\\nTraverse City, MI United States\\nCidery\\n28 Beers 2,051 Ratings\\n(3.904)\\nCider Corps\\nMesa, AZ United States\\nCidery\\n246 Beers 18,629 Ratings\\n(3.898)\\nStoic Cider\\nPrescott, AZ United States\\nCidery\\n24 Beers 1,727 Ratings\\n(3.897)\\nChannel Marker Cider\\nSeattle, WA United States\\nCidery\\n38 Beers 1,957 Ratings\\n(3.891)\\nOK Cider Co\\nOklahoma City, OK United States\\nCidery\\n103 Beers 4,225 Ratings\\n(3.89)\\nBroski Ciderworks\\nPompano Beach, FL United States\\nCidery\\n249 Beers 6,527 Ratings\\n(3.888)\\nWinterset Cidery\\nWinterset, IA United States\\nCidery\\n29 Beers 1,231 Ratings\\n(3.885)\\nHumboldt Cider Company\\nEureka, CA United States\\nCidery\\n141 Beers 5,787 Ratings\\n(3.878)\\nDowneast Cider House\\nBoston, MA United States\\nCidery\\n194 Beers 189,880 Ratings\\n(3.877)\\nCiderboys Hard Cider\\nStevens Point, WI United States\\nCidery\\n44 Beers 180,915 Ratings\\n(3.874)\\nBoxing Brothers Ciderhouse\\nColorado Springs, CO United States\\nCidery\\n84 Beers 1,469 Ratings\\n(3.872)\\nAprès\\nPortland, ME United States\\nCidery\\n55 Beers 1,685 Ratings\\n(3.87)\\nLeft Foot Charley\\nTraverse City, MI United States\\nCidery\\n55 Beers 7,473 Ratings\\n(3.87)\\nHidden Cave Cidery\\nMiddleton, WI United States\\nCidery\\n26 Beers 1,527 Ratings\\n(3.868)\\nAlter Ego Cider\\nPortland, OR United States\\nCidery\\n38 Beers 4,996 Ratings\\n(3.859)\\nTexas Keeper Cider\\nAustin, TX United States\\nCidery\\n36 Beers 6,909 Ratings\\n(3.859)\\nSouth Hill Cider\\nIthaca, NY United States\\nCidery\\n52 Beers 2,411 Ratings\\n(3.856)\\nAsh & Elm Cider Co.\\nIndianapolis, IN United States\\nCidery\\n140 Beers 13,760 Ratings\\n(3.854)\\nFierce County Cider\\nPuyallup, WA United States\\nCidery\\n39 Beers 1,078 Ratings\\n(3.854)\\nWhitewood Cider Co.\\nOlympia, WA United States\\nCidery\\n69 Beers 4,242 Ratings\\n(3.854)\\nFar West Cider Co.\\nRichmond, CA United States\\nCidery\\n55 Beers 4,610 Ratings\\n(3.852)\\nGlacial Till Vineyard & Winery\\nPalmyra, NE United States\\nCidery\\n63 Beers 10,452 Ratings\\n(3.852)\\n814 Cider Works\\nState College, PA United States\\nCidery\\n24 Beers 1,603 Ratings\\n(3.852)\\nBurnt Mills Cider\\nBedminster Township, NJ United States\\nCidery\\n32 Beers 4,097 Ratings\\n(3.85)\\nSoundbite Cider\\nEverett, WA United States\\nCidery\\n129 Beers 2,997 Ratings\\n(3.848)\\nSacrilegious Ciderworks\\nGlenwood, IA United States\\nCidery\\n56 Beers 4,968 Ratings\\n(3.842)\\nWinsome Ciderworks\\nWoodinville, WA United States\\nCidery\\n8 Beers 2,974 Ratings\\n(3.84)\\nThe People's Cider Co.\\nGrand Rapids, MI United States\\nCidery\\n114 Beers 2,780 Ratings\\n(3.839)\\nNewtopia Cyder\\nSan Diego, CA United States\\nCidery\\n175 Beers 14,612 Ratings\\n(3.837)\\nElemental Hard Cider\\nArlington, WA United States\\nCidery\\n54 Beers 14,408 Ratings\\n(3.834)\", \"Pips Meadery\\nBeach Park, IL United States\\nMeadery\\n174 Beers 56,526 Ratings\\n(4.64)\\nBrewlihan\\nOakland Park, FL United States\\nMeadery\\n76 Beers 3,848 Ratings\\n(4.541)\\nZymarium\\nOrlando, FL United States\\nMeadery\\n106 Beers 3,879 Ratings\\n(4.529)\\nSchramm's Mead\\nFerndale, MI United States\\nMeadery\\n110 Beers 133,789 Ratings\\n(4.52)\\nBoneflower Craft Mead\\nSt. John, IN United States\\nMeadery\\n46 Beers 9,622 Ratings\\n(4.45)\\nTownship Meadery\\nOdenton, MD United States\\nMeadery\\n61 Beers 1,589 Ratings\\n(4.437)\\nPye Road Meadworks\\nOdessa, FL United States\\nMeadery\\n207 Beers 9,561 Ratings\\n(4.424)\\nStandard Meadery\\nVilla Park, IL United States\\nMeadery\\n192 Beers 31,762 Ratings\\n(4.418)\\nFunktastic Meads\\nMidlothian, VA United States\\nMeadery\\n217 Beers 9,647 Ratings\\n(4.404)\\nGaragiste Meadery\\nTampa, FL United States\\nMeadery\\n262 Beers 92,713 Ratings\\n(4.36)\\nReport Ad\\nManic Meadery\\nCrown Point, IN United States\\nMeadery\\n188 Beers 23,190 Ratings\\n(4.354)\\nHex Meadery\\nKaukauna, WI United States\\nMeadery\\n47 Beers 1,168 Ratings\\n(4.327)\\nHoney Pot Meadery\\nAnaheim, CA United States\\nMeadery\\n298 Beers 21,513 Ratings\\n(4.303)\\nCeiba\\nMiami, FL United States\\nMeadery\\n88 Beers 1,315 Ratings\\n(4.282)\\nMisbeehavin' Meads\\nValparaiso, IN United States\\nMeadery\\n233 Beers 31,548 Ratings\\n(4.259)\\nFour Fires Meadery\\nMaumee, OH United States\\nMeadery\\n256 Beers 18,945 Ratings\\n(4.246)\\nSecond City Meadery\\nChicago, IL United States\\nMeadery\\n159 Beers 5,854 Ratings\\n(4.237)\\nBurnt Barrel Meadery\\nLake Saint Louis, MO United States\\nMeadery\\n48 Beers 1,858 Ratings\\n(4.236)\\nNectareous\\nLongwood, FL United States\\nMeadery\\n34 Beers 2,401 Ratings\\n(4.234)\\nAntelope Ridge Mead\\nColorado Springs, CO United States\\nMeadery\\n44 Beers 1,879 Ratings\\n(4.224)\\nCapital Hive Meadery\\nLeesburg, VA United States\\nMeadery\\n80 Beers 1,906 Ratings\\n(4.218)\\nManiacal Mead Co.\\nYpsilanti, MI United States\\nMeadery\\n85 Beers 1,788 Ratings\\n(4.156)\\nSuperstition Meadery\\nPrescott, AZ United States\\nMeadery\\n458 Beers 170,852 Ratings\\n(4.152)\\nWildflyer Mead Company\\nNavasota, TX United States\\nMeadery\\n61 Beers 2,097 Ratings\\n(4.113)\\nLost Cause Meadery\\nSan Diego, CA United States\\nMeadery\\n164 Beers 11,423 Ratings\\n(4.079)\\nSaint Michael's Mead\\nHye, TX United States\\nMeadery\\n5 Beers 1,776 Ratings\\n(4.056)\\nThe Brimming Horn Meadery\\nMilton, DE United States\\nMeadery\\n411 Beers 10,470 Ratings\\n(4.045)\\nBlack Heath Meadery\\nRichmond, VA United States\\nMeadery\\n304 Beers 12,424 Ratings\\n(4.041)\\nScale & Feather Meadery\\nAvondale, AZ United States\\nMeadery\\n127 Beers 2,415 Ratings\\n(4.032)\\nArtivem Mead Co.\\nBellingham, WA United States\\nMeadery\\n65 Beers 1,734 Ratings\\n(4.024)\\nZen Bee Meadery\\nWorthington, OH United States\\nMeadery\\n42 Beers 1,130 Ratings\\n(4.018)\\nW A Meadwerks\\nLindenhurst, NY United States\\nMeadery\\n109 Beers 8,019 Ratings\\n(4.012)\\nMelovino Meadery\\nVauxhall, NJ United States\\nMeadery\\n346 Beers 21,830 Ratings\\n(4.007)\\nArizona Mead Company\\nChandler, AZ United States\\nMeadery\\n38 Beers 1,355 Ratings\\n(3.986)\\nMission-Trail\\nBradley, CA United States\\nMeadery\\n142 Beers 12,959 Ratings\\n(3.971)\\nWyldewood Cellars\\nSaint Joseph, IL United States\\nMeadery\\n14 Beers 1,953 Ratings\\n(3.963)\\nOrchid Cellar Meadery\\nMiddletown, MD United States\\nMeadery\\n39 Beers 2,434 Ratings\\n(3.934)\\nCrafted Artisan Meadery\\nMogadore, OH United States\\nMeadery\\n107 Beers 57,674 Ratings\\n(3.932)\\nHonnibrook Craft Meadery\\nCastle Rock, CO United States\\nMeadery\\n63 Beers 1,796 Ratings\\n(3.908)\\nBatch Mead\\nTemecula, CA United States\\nMeadery\\n110 Beers 1,273 Ratings\\n(3.895)\\nQueen City Meadery\\nWest Seneca, NY United States\\nMeadery\\n37 Beers 1,136 Ratings\\n(3.89)\\nB. Nektar Meadery\\nFerndale, MI United States\\nMeadery\\n449 Beers 288,997 Ratings\\n(3.871)\\nThe Apiary Ciderworks and Meadery\\nCarpinteria, CA United States\\nMeadery\\n202 Beers 2,017 Ratings\\n(3.87)\\nBeach Bee Meadery\\nLong Branch, NJ United States\\nMeadery\\n76 Beers 3,023 Ratings\\n(3.868)\\nLaurel Highlands Meadery\\nGreensburg, PA United States\\nMeadery\\n97 Beers 2,750 Ratings\\n(3.865)\\nSap House Meadery\\nCenter Ossipee, NH United States\\nMeadery\\n152 Beers 6,539 Ratings\\n(3.864)\\nQueen Bee Brews\\nDenver, CO United States\\nMeadery\\n38 Beers 1,233 Ratings\\n(3.864)\\nBreaking Brew Meadery\\nFarmers Branch, TX United States\\nMeadery\\n39 Beers 3,970 Ratings\\n(3.856)\\nRohan Meadery\\nLa Grange, TX United States\\nMeadery\\n31 Beers 1,203 Ratings\\n(3.855)\\nHeiðrun Meadery\\nPoint Reyes Station, CA United States\\nMeadery\\n29 Beers 1,277 Ratings\\n(3.854)\", 'Brujos Brewing\\nPortland, OR United States\\nContract Brewery\\n14 Beers 4,599 Ratings\\n(4.459)\\nMAZURT Brewing Company\\nAtlanta, GA United States\\nContract Brewery\\n73 Beers 3,223 Ratings\\n(4.245)\\nHumble Forager Brewery\\nWaunakee, WI United States\\nContract Brewery\\n79 Beers 202,043 Ratings\\n(4.134)\\nEsker Hart Artisan Ales\\nHampton, NJ United States\\nContract Brewery\\n64 Beers 4,889 Ratings\\n(4.128)\\nEredità Beer\\nUnited States\\nContract Brewery\\n11 Beers 3,648 Ratings\\n(4.124)\\nThe Brutalist\\nUnited States\\nContract Brewery\\n31 Beers 2,322 Ratings\\n(4.001)\\nJuxta Nomad\\nLas Vegas, NV United States\\nContract Brewery\\n48 Beers 4,202 Ratings\\n(4.001)\\nStrong Side Brewing\\nHopedale, MA United States\\nContract Brewery\\n5 Beers 1,133 Ratings\\n(3.968)\\nFat Orange Cat Brew Co.\\nEast Hampton, CT United States\\nContract Brewery\\n301 Beers 314,940 Ratings\\n(3.966)\\nBombastic Brewing\\nHayden, ID United States\\nContract Brewery\\n60 Beers 13,907 Ratings\\n(3.964)\\nReport Ad\\nBlack Calder Brewing Company\\nGrand Rapids, MI United States\\nContract Brewery\\n12 Beers 1,276 Ratings\\n(3.956)\\nCoastal Brew Works\\nUnited States\\nContract Brewery\\n6 Beers 1,505 Ratings\\n(3.951)\\nLate Start Brewing\\nTampa, FL United States\\nContract Brewery\\n275 Beers 10,360 Ratings\\n(3.937)\\nAncillary* Fermentation\\nRaleigh, NC United States\\nContract Brewery\\n34 Beers 15,584 Ratings\\n(3.927)\\nPublic Access Liquids\\nBoston, MA United States\\nContract Brewery\\n20 Beers 35,411 Ratings\\n(3.912)\\nNew Hokkaido\\nBozeman, MT United States\\nContract Brewery\\n15 Beers 7,826 Ratings\\n(3.89)\\nJanky Brew Co\\nShippensburg, PA United States\\nContract Brewery\\n54 Beers 1,270 Ratings\\n(3.872)\\nHares Hill Brewing Company\\nPottstown, PA United States\\nContract Brewery\\n31 Beers 2,888 Ratings\\n(3.865)\\nCrowns & Hops\\nInglewood, CA United States\\nContract Brewery\\n44 Beers 21,276 Ratings\\n(3.841)\\nCultivate Coffee & TapHouse\\nYpsilanti, MI United States\\nContract Brewery\\n55 Beers 2,295 Ratings\\n(3.829)\\nNowhere In Particular Promiscuous Ale Project\\nDayton, OH United States\\nContract Brewery\\n128 Beers 80,682 Ratings\\n(3.827)\\nRockport Brewing Company\\nRockport, MA United States\\nContract Brewery\\n23 Beers 5,796 Ratings\\n(3.823)\\nThe Catamount Brewery\\nWindsor, VT United States\\nContract Brewery\\n13 Beers 5,602 Ratings\\n(3.816)\\nLowlands Brewing Collaborative\\nMilwaukee, WI United States\\nContract Brewery\\n15 Beers 20,265 Ratings\\n(3.809)\\nVanberg & DeWulf\\nCooperstown, NY United States\\nContract Brewery\\n10 Beers 19,388 Ratings\\n(3.788)\\nMy Favorite Thing\\nLargo, FL United States\\nContract Brewery\\n10 Beers 1,755 Ratings\\n(3.78)\\nThe Conrad Seipp Brewing Co.\\nChicago, IL United States\\nContract Brewery\\n6 Beers 2,658 Ratings\\n(3.768)\\nSparkling Stillwater\\nUnited States\\nContract Brewery\\n12 Beers 3,681 Ratings\\n(3.761)\\n7 Clans Brewing\\nAsheville, NC United States\\nContract Brewery\\n12 Beers 6,391 Ratings\\n(3.76)\\nThe Futurist\\nPhiladelphia, PA United States\\nContract Brewery\\n5 Beers 1,318 Ratings\\n(3.76)\\nFunkytown Brewery\\nChicago, IL United States\\nContract Brewery\\n11 Beers 4,023 Ratings\\n(3.741)\\nBravazzi\\nGrand Rapids, MI United States\\nContract Brewery\\n6 Beers 4,944 Ratings\\n(3.738)\\nIncrediBREW\\nNashua, NH United States\\nContract Brewery\\n181 Beers 1,628 Ratings\\n(3.715)\\nOpportunity Brewing Company\\nFlemington, NJ United States\\nContract Brewery\\n7 Beers 3,039 Ratings\\n(3.668)\\nBoulder Beer\\nUnited States\\nContract Brewery\\n12 Beers 626,638 Ratings\\n(3.663)\\nCenter Ice Brewery\\nSainte Genevieve, MO United States\\nContract Brewery\\n20 Beers 19,416 Ratings\\n(3.648)\\nOther Desi Beer Co.\\nBranford, CT United States\\nContract Brewery\\n6 Beers 1,090 Ratings\\n(3.633)\\nGreat Northern Brewing Company (Montana)\\nWhitefish, MT United States\\nContract Brewery\\n76 Beers 44,333 Ratings\\n(3.627)\\nDokkaebier\\nNob Hill Place, CA United States\\nContract Brewery\\n16 Beers 3,656 Ratings\\n(3.621)\\nCampanology Brewing\\nWaunakee, WI United States\\nContract Brewery\\n16 Beers 41,217 Ratings\\n(3.609)\\nNext Door Brewing Company\\nPotosi, WI United States\\nContract Brewery\\n188 Beers 49,883 Ratings\\n(3.592)\\nArcadia Brewing Co.\\nElk Rapids, MI United States\\nContract Brewery\\n219 Beers 345,064 Ratings\\n(3.58)\\nRogers Beer Company\\nLe Roy, NY United States\\nContract Brewery\\n13 Beers 4,485 Ratings\\n(3.573)\\nFaded Flannel Brewing Company\\nEugene, OR United States\\nContract Brewery\\n7 Beers 2,995 Ratings\\n(3.565)\\nCentral Virginia Brewing Company\\nArlington, VA United States\\nContract Brewery\\n15 Beers 2,285 Ratings\\n(3.526)\\nCajun Fire Brewing Company\\nNew Orleans, LA United States\\nContract Brewery\\n7 Beers 1,406 Ratings\\n(3.51)\\nHowler Brewery\\nHatfield, MA United States\\nContract Brewery\\n20 Beers 4,678 Ratings\\n(3.501)\\nSons of 1858\\nDenver, CO United States\\nContract Brewery\\n5 Beers 1,170 Ratings\\n(3.475)\\nCrazy Mountain Brewing Company\\nEdwards, CO United States\\nContract Brewery\\n280 Beers 197,351 Ratings\\n(3.449)\\nTap 79 Brewing Co.\\nLos Angeles, CA United States\\nContract Brewery\\n5 Beers 7,915 Ratings\\n(3.435)', \"Tree House Brewing Company\\nCharlton, MA United States\\nRegional Brewery\\n843 Beers 4,174,866 Ratings\\n(4.336)\\nThe Alchemist\\nStowe, VT United States\\nRegional Brewery\\n112 Beers 728,160 Ratings\\n(4.332)\\nTrillium Brewing Company\\nCanton, MA United States\\nRegional Brewery\\n587 Beers 2,763,242 Ratings\\n(4.257)\\nOther Half Brewing Co.\\nBrooklyn, NY United States\\nRegional Brewery\\n1,600 Beers 3,941,845 Ratings\\n(4.227)\\nEquilibrium Brewery\\nMiddletown, NY United States\\nRegional Brewery\\n598 Beers 1,455,948 Ratings\\n(4.202)\\nRussian River Brewing Company\\nWindsor, CA United States\\nRegional Brewery\\n179 Beers 1,302,939 Ratings\\n(4.174)\\nGreat Notion Brewing\\nPortland, OR United States\\nRegional Brewery\\n718 Beers 858,910 Ratings\\n(4.156)\\nToppling Goliath Brewing Co.\\nDecorah, IA United States\\nRegional Brewery\\n137 Beers 1,775,962 Ratings\\n(4.148)\\nKane Brewing Company\\nOcean, NJ United States\\nRegional Brewery\\n732 Beers 642,509 Ratings\\n(4.113)\\nParish Brewing Co.\\nBroussard, LA United States\\nRegional Brewery\\n252 Beers 439,819 Ratings\\n(4.096)\\nReport Ad\\nAslin Beer Company\\nAlexandria, VA United States\\nRegional Brewery\\n772 Beers 1,136,638 Ratings\\n(4.078)\\nBearded Iris Brewing\\nNashville, TN United States\\nRegional Brewery\\n343 Beers 586,698 Ratings\\n(4.076)\\nOld Nation Brewing Co.\\nWilliamston, MI United States\\nRegional Brewery\\n232 Beers 425,033 Ratings\\n(4.075)\\nPrairie Artisan Ales\\nKrebs, OK United States\\nRegional Brewery\\n1,014 Beers 2,326,926 Ratings\\n(4.074)\\nThe Bruery\\nPlacentia, CA United States\\nRegional Brewery\\n599 Beers 2,015,519 Ratings\\n(4.071)\\nNew England Brewing Co.\\nWoodbridge, CT United States\\nRegional Brewery\\n336 Beers 327,736 Ratings\\n(4.046)\\nFiddlehead Brewing Company\\nShelburne, VT United States\\nRegional Brewery\\n136 Beers 277,038 Ratings\\n(4.041)\\nMaine Beer Company\\nFreeport, ME United States\\nRegional Brewery\\n24 Beers 1,102,640 Ratings\\n(4.039)\\nFremont Brewing\\nSeattle, WA United States\\nRegional Brewery\\n693 Beers 865,299 Ratings\\n(4.039)\\nJackie O's Brewery\\nAthens, OH United States\\nRegional Brewery\\n364 Beers 901,120 Ratings\\n(4.037)\\nWild Leap Brew Co.\\nLa Grange, GA United States\\nRegional Brewery\\n87 Beers 190,996 Ratings\\n(4.022)\\nUntitled Art\\nWaunakee, WI United States\\nRegional Brewery\\n316 Beers 891,946 Ratings\\n(4.022)\\nRevision Brewing Company\\nSparks, NV United States\\nRegional Brewery\\n246 Beers 511,146 Ratings\\n(4.016)\\nSingleCut Beersmiths\\nAstoria, NY United States\\nRegional Brewery\\n294 Beers 1,037,311 Ratings\\n(4.013)\\nModern Times Beer\\nSan Diego, CA United States\\nRegional Brewery\\n1,673 Beers 2,096,975 Ratings\\n(4.007)\\nWestbrook Brewing Co.\\nMt Pleasant, SC United States\\nRegional Brewery\\n276 Beers 961,145 Ratings\\n(4.005)\\n3 Floyds Brewing\\nMunster, IN United States\\nRegional Brewery\\n424 Beers 2,538,595 Ratings\\n(4.002)\\nThe Bruery Terreux\\nAnaheim, CA United States\\nRegional Brewery\\n337 Beers 675,893 Ratings\\n(3.996)\\nCreature Comforts Brewing Co.\\nAthens, GA United States\\nRegional Brewery\\n381 Beers 369,806 Ratings\\n(3.987)\\nFort George Brewery\\nAstoria, OR United States\\nRegional Brewery\\n295 Beers 486,920 Ratings\\n(3.985)\\nPinthouse Pizza\\nAustin, TX United States\\nRegional Brewery\\n952 Beers 244,220 Ratings\\n(3.985)\\nNew Trail Brewing Co.\\nWilliamsport, PA United States\\nRegional Brewery\\n281 Beers 575,762 Ratings\\n(3.974)\\nAleSmith Brewing Company\\nSan Diego, CA United States\\nRegional Brewery\\n552 Beers 1,269,102 Ratings\\n(3.972)\\nFieldwork® Brewing Company\\nBerkeley, CA United States\\nRegional Brewery\\n723 Beers 681,064 Ratings\\n(3.965)\\nIndustrial Arts Brewing\\nBeacon, NY United States\\nRegional Brewery\\n90 Beers 277,331 Ratings\\n(3.965)\\nMaplewood Brewing Company\\nChicago, IL United States\\nRegional Brewery\\n290 Beers 392,319 Ratings\\n(3.961)\\nAlmanac\\nAlameda, CA United States\\nRegional Brewery\\n384 Beers 853,498 Ratings\\n(3.96)\\nTwelve5 Beverage Co.\\nNeenah, WI United States\\nRegional Brewery\\n27 Beers 18,009 Ratings\\n(3.953)\\nSloop Brewing Co.\\nHopewell Junction, NY United States\\nRegional Brewery\\n180 Beers 553,289 Ratings\\n(3.951)\\nBig Grove Brewery\\nIowa City, IA United States\\nRegional Brewery\\n556 Beers 231,838 Ratings\\n(3.948)\\nLa Cumbre Brewing Company\\nAlbuquerque, NM United States\\nRegional Brewery\\n616 Beers 191,245 Ratings\\n(3.947)\\nBoneyard Beer\\nBend, OR United States\\nRegional Brewery\\n269 Beers 255,054 Ratings\\n(3.94)\\nFirestone Walker Brewing Company\\nPaso Robles, CA United States\\nRegional Brewery\\n93 Beers 3,586,368 Ratings\\n(3.939)\\nHalf Acre Beer Company\\nChicago, IL United States\\nRegional Brewery\\n639 Beers 1,177,687 Ratings\\n(3.938)\\nOffshoot Beer Co.\\nPlacentia, CA United States\\nRegional Brewery\\n85 Beers 219,345 Ratings\\n(3.935)\\nHenHouse Brewing Company\\nSanta Rosa, CA United States\\nRegional Brewery\\n262 Beers 176,165 Ratings\\n(3.929)\\nThe Starkeller Brewery + Taproom\\nNew Ulm, MN United States\\nRegional Brewery\\n43 Beers 41,578 Ratings\\n(3.928)\\nAlpine Beer Company\\nFort Collins, CO United States\\nRegional Brewery\\n263 Beers 611,550 Ratings\\n(3.915)\\nMelvin Brewing\\nAlpine, WY United States\\nRegional Brewery\\n640 Beers 436,822 Ratings\\n(3.914)\\nHardywood Park Craft Brewery\\nRichmond, VA United States\\nRegional Brewery\\n595 Beers 776,031 Ratings\\n(3.912)\"]\n"
     ]
    }
   ],
   "source": [
    "print(all_brewery_info)"
   ]
  },
  {
   "cell_type": "code",
   "execution_count": null,
   "id": "e23e3573",
   "metadata": {},
   "outputs": [],
   "source": []
  },
  {
   "cell_type": "code",
   "execution_count": 79,
   "id": "6c60d7ce",
   "metadata": {},
   "outputs": [],
   "source": [
    "# open file in write mode\n",
    "import re\n",
    "\n",
    "with open(r'all_breweries_list.txt', 'w') as fp:\n",
    "    for item in all_brewery_info:\n",
    "        # write each item on a new line\n",
    "        fp.write(item)\n"
   ]
  },
  {
   "cell_type": "code",
   "execution_count": 80,
   "id": "eba67e0b",
   "metadata": {},
   "outputs": [],
   "source": [
    "import re\n",
    "\n",
    "pattern = r\"\\(\\d+\\.\\d+?)\\s\""
   ]
  },
  {
   "cell_type": "code",
   "execution_count": 89,
   "id": "871e6edd",
   "metadata": {},
   "outputs": [
    {
     "name": "stdout",
     "output_type": "stream",
     "text": [
      "[{'brewery_name': 'Tree House Brewing Company', 'brewery_location': 'Charlton, MA United States', 'brewery_type': 'Regional Brewery', 'number_beers': '842', 'brewery_ratings': 'Beers', 'brewery_star_ratings': '(4.336)'}, {'brewery_name': 'Tree House Brewing Company', 'brewery_location': 'Charlton, MA United States', 'brewery_type': 'Regional Brewery', 'number_beers': '842', 'brewery_ratings': 'Beers', 'brewery_star_ratings': '(4.336)'}, {'brewery_name': 'Tree House Brewing Company', 'brewery_location': 'Charlton, MA United States', 'brewery_type': 'Regional Brewery', 'number_beers': '842', 'brewery_ratings': 'Beers', 'brewery_star_ratings': '(4.336)'}, {'brewery_name': 'Tree House Brewing Company', 'brewery_location': 'Charlton, MA United States', 'brewery_type': 'Regional Brewery', 'number_beers': '842', 'brewery_ratings': 'Beers', 'brewery_star_ratings': '(4.336)'}, {'brewery_name': 'Tree House Brewing Company', 'brewery_location': 'Charlton, MA United States', 'brewery_type': 'Regional Brewery', 'number_beers': '842', 'brewery_ratings': 'Beers', 'brewery_star_ratings': '(4.336)'}, {'brewery_name': 'Tree House Brewing Company', 'brewery_location': 'Charlton, MA United States', 'brewery_type': 'Regional Brewery', 'number_beers': '842', 'brewery_ratings': 'Beers', 'brewery_star_ratings': '(4.336)'}, {'brewery_name': 'Tree House Brewing Company', 'brewery_location': 'Charlton, MA United States', 'brewery_type': 'Regional Brewery', 'number_beers': '842', 'brewery_ratings': 'Beers', 'brewery_star_ratings': '(4.336)'}, {'brewery_name': 'Tree House Brewing Company', 'brewery_location': 'Charlton, MA United States', 'brewery_type': 'Regional Brewery', 'number_beers': '842', 'brewery_ratings': 'Beers', 'brewery_star_ratings': '(4.336)'}]\n"
     ]
    }
   ],
   "source": [
    "brewery_list_split = []\n",
    "\n",
    "for brewery in all_brewery_info:\n",
    "    \n",
    "    dictionary = {}\n",
    "    dictionary['brewery_name'] = brewery[0]\n",
    "    dictionary['brewery_location'] = brewery[1]\n",
    "    dictionary['brewery_type'] = brewery[2]\n",
    "    dictionary['number_beers'] = brewery[3]\n",
    "    dictionary['brewery_ratings'] = brewery[3]\n",
    "    dictionary['brewery_star_ratings'] = brewery[4]\n",
    "    brewery_list_split.append(dictionary)\n",
    "    match = re.findall(r\"(\\w+) \\((\\d+\\.?\\d*)\\)\", brewery)\n",
    "    if match:\n",
    "        continue\n",
    "\n",
    "\n",
    "    \n",
    "\n",
    "print(brewery_list_split)"
   ]
  },
  {
   "cell_type": "code",
   "execution_count": null,
   "id": "97c71d0f",
   "metadata": {},
   "outputs": [],
   "source": []
  },
  {
   "cell_type": "code",
   "execution_count": 44,
   "id": "ff3d2bf4",
   "metadata": {},
   "outputs": [
    {
     "data": {
      "text/plain": [
       "[]"
      ]
     },
     "execution_count": 44,
     "metadata": {},
     "output_type": "execute_result"
    }
   ],
   "source": []
  },
  {
   "cell_type": "code",
   "execution_count": null,
   "id": "bacf3396",
   "metadata": {},
   "outputs": [],
   "source": []
  },
  {
   "cell_type": "code",
   "execution_count": null,
   "id": "67260bf2",
   "metadata": {},
   "outputs": [],
   "source": []
  }
 ],
 "metadata": {
  "kernelspec": {
   "display_name": "Python 3 (ipykernel)",
   "language": "python",
   "name": "python3"
  },
  "language_info": {
   "codemirror_mode": {
    "name": "ipython",
    "version": 3
   },
   "file_extension": ".py",
   "mimetype": "text/x-python",
   "name": "python",
   "nbconvert_exporter": "python",
   "pygments_lexer": "ipython3",
   "version": "3.9.13"
  }
 },
 "nbformat": 4,
 "nbformat_minor": 5
}
