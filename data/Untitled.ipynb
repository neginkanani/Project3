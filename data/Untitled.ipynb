{
 "cells": [
  {
   "cell_type": "code",
   "execution_count": null,
   "id": "46cf7dd2",
   "metadata": {},
   "outputs": [],
   "source": [
    "!pip uninstall splinter"
   ]
  },
  {
   "cell_type": "code",
   "execution_count": 4,
   "id": "63ac9b3e",
   "metadata": {},
   "outputs": [
    {
     "ename": "ModuleNotFoundError",
     "evalue": "No module named 'splinter'",
     "output_type": "error",
     "traceback": [
      "\u001b[1;31m---------------------------------------------------------------------------\u001b[0m",
      "\u001b[1;31mModuleNotFoundError\u001b[0m                       Traceback (most recent call last)",
      "\u001b[1;32m~\\AppData\\Local\\Temp\\ipykernel_12540\\292270204.py\u001b[0m in \u001b[0;36m<module>\u001b[1;34m\u001b[0m\n\u001b[1;32m----> 1\u001b[1;33m \u001b[1;32mfrom\u001b[0m \u001b[0msplinter\u001b[0m \u001b[1;32mimport\u001b[0m \u001b[0mBrowser\u001b[0m\u001b[1;33m\u001b[0m\u001b[1;33m\u001b[0m\u001b[0m\n\u001b[0m\u001b[0;32m      2\u001b[0m \u001b[1;32mfrom\u001b[0m \u001b[0mbs4\u001b[0m \u001b[1;32mimport\u001b[0m \u001b[0mBeautifulSoup\u001b[0m\u001b[1;33m\u001b[0m\u001b[1;33m\u001b[0m\u001b[0m\n\u001b[0;32m      3\u001b[0m \u001b[1;32mfrom\u001b[0m \u001b[0mwebdriver_manager\u001b[0m\u001b[1;33m.\u001b[0m\u001b[0mchrome\u001b[0m \u001b[1;32mimport\u001b[0m \u001b[0mChromeDriverManager\u001b[0m\u001b[1;33m\u001b[0m\u001b[1;33m\u001b[0m\u001b[0m\n\u001b[0;32m      4\u001b[0m \u001b[1;32mimport\u001b[0m \u001b[0mpandas\u001b[0m \u001b[1;32mas\u001b[0m \u001b[0mpd\u001b[0m\u001b[1;33m\u001b[0m\u001b[1;33m\u001b[0m\u001b[0m\n\u001b[0;32m      5\u001b[0m \u001b[1;32mimport\u001b[0m \u001b[0mtime\u001b[0m\u001b[1;33m\u001b[0m\u001b[1;33m\u001b[0m\u001b[0m\n",
      "\u001b[1;31mModuleNotFoundError\u001b[0m: No module named 'splinter'"
     ]
    }
   ],
   "source": [
    "from splinter import Browser\n",
    "from bs4 import BeautifulSoup\n",
    "from webdriver_manager.chrome import ChromeDriverManager\n",
    "import pandas as pd\n",
    "import time\n",
    "import requests\n",
    "import pprint\n",
    "from itertools import chain"
   ]
  },
  {
   "cell_type": "code",
   "execution_count": null,
   "id": "34454511",
   "metadata": {},
   "outputs": [],
   "source": [
    "def main():\n",
    "    \n",
    "    #get_brewery_api()\n",
    "    scrape_untapped()\n",
    "\n",
    "\n",
    "def get_brewery_api():\n",
    "    i = 0\n",
    "    url = f'https://api.openbrewerydb.org/breweries?page={i}&per_page=200'\n",
    "    brewery_list = []\n",
    "    for i in range(1,44):\n",
    "        response = requests.get(url)\n",
    "        brewery_data = response.json()\n",
    "        brewery_list.append(brewery_data)\n",
    "        time.sleep(1)\n",
    "    all_brewerys_pd = list(chain.from_iterable(brewery_list))\n",
    "    return all_brewerys_pd\n",
    "\n",
    "\n",
    "def scrape_untapped():\n",
    "    '''Scrape the untapped website to collect the latest beer information\n",
    "    open the website'''\n",
    "    executable_path = {'executable_path': ChromeDriverManager().install()}\n",
    "    browser = Browser('chrome', **executable_path, headless=False)\n",
    "    #reading the html code\n",
    "    html = browser.html\n",
    "    soup = BeautifulSoup(html, 'html.parser')\n",
    "    brew_types = ['macro_brewery', 'micro_brewery', 'nano_brewery', 'brew_pub','cidery','meadery',\n",
    "              'contract_brewery', 'regional_brewery']\n",
    "\n",
    "    all_brewery_info = []\n",
    "\n",
    "    for types in brew_types:\n",
    "        url_untapped = f'https://untappd.com/brewery/top_rated?brewery_type={types}'\n",
    "        browser.visit(url_untapped)\n",
    "        time.sleep(5)\n",
    "        breweries = browser.find_by_xpath('//*[@id=\"slide\"]/div[3]/div/div[1]/div/div[4]')\n",
    "        for brewery in breweries:\n",
    "            title_link = brewery.text\n",
    "            all_brewery_info.append(title_link)\n",
    "            time.sleep(1)\n",
    "    #Removing the adds        \n",
    "    for item in all_brewery_info:\n",
    "        if item == \"Report\":\n",
    "            all_brewery_info.remove(\"Report Ad\")\n",
    "\n",
    "    brewery_list_all = []\n",
    "\n",
    "    brewery_list = all_brewery_info[0].split(\"\\n\")\n",
    "    brewery_list.remove(\"Report Ad\")\n",
    "    i = 0\n",
    "\n",
    "    while i < len(brewery_list):\n",
    "#         if i == \"Report Ad\":\n",
    "#             brewery_list.remove(\"Report Ad\")\n",
    "#         else:\n",
    "        try: \n",
    "            brewery = brewery_list[i:i+5]\n",
    "            #print(brewery)\n",
    "            dictionary = dict()\n",
    "            dictionary['brewery_name'] = brewery[0]\n",
    "            dictionary['brewery_location'] = brewery[1]\n",
    "            dictionary['brewery_type'] = brewery[2]\n",
    "            dictionary['number_beers'] = brewery[3]\n",
    "            dictionary['brewery_ratings'] = brewery[4]\n",
    "        except IndexError:\n",
    "            print(f\"This batch broke: {brewery}\")\n",
    "            break\n",
    "        brewery_list_all.append(dictionary)\n",
    "        i += 5\n",
    "    return brewery_list_all\n",
    "\n",
    "    \n",
    "    # return dict_data\n",
    "    if __name__ == \"__main__\":\n",
    "        main()"
   ]
  }
 ],
 "metadata": {
  "kernelspec": {
   "display_name": "PythonData",
   "language": "python",
   "name": "pythondata"
  },
  "language_info": {
   "codemirror_mode": {
    "name": "ipython",
    "version": 3
   },
   "file_extension": ".py",
   "mimetype": "text/x-python",
   "name": "python",
   "nbconvert_exporter": "python",
   "pygments_lexer": "ipython3",
   "version": "3.7.15"
  }
 },
 "nbformat": 4,
 "nbformat_minor": 5
}
